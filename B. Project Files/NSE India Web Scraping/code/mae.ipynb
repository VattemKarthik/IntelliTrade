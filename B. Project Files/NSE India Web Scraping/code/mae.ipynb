{
 "cells": [
  {
   "cell_type": "code",
   "execution_count": 57,
   "metadata": {},
   "outputs": [],
   "source": [
    "from keras.models import load_model\n",
    "import pandas as pd\n",
    "import numpy as np\n",
    "import os\n",
    "import math\n",
    "import matplotlib.pyplot as plt\n",
    "from sklearn.metrics import mean_absolute_error,mean_squared_error\n",
    "import json"
   ]
  },
  {
   "cell_type": "code",
   "execution_count": 58,
   "metadata": {},
   "outputs": [],
   "source": [
    "model_dir=\"D:\\\\programs\\\\ads_flask\\\\logres_op\\\\model\\\\\"\n",
    "data_dir=\"D:\\\\programs\\\\ads_flask\\\\logres_op\\\\data\\\\\""
   ]
  },
  {
   "cell_type": "code",
   "execution_count": 59,
   "metadata": {},
   "outputs": [],
   "source": [
    "ls_d=[]\n",
    "files=[]\n",
    "for root, dirs, files in os.walk(data_dir, topdown=False):\n",
    "   for name in files:\n",
    "      ls_d.append(os.path.join(root, name))\n",
    "for i in range(len(files)):\n",
    "   files[i]=files[i].replace(\".csv\",\"\")"
   ]
  },
  {
   "cell_type": "code",
   "execution_count": 60,
   "metadata": {},
   "outputs": [],
   "source": [
    "ls_m=[]\n",
    "files=[]\n",
    "for root, dirs, files in os.walk(model_dir, topdown=False):\n",
    "   for name in files:\n",
    "      ls_m.append(os.path.join(root, name))\n",
    "for i in range(len(files)):\n",
    "   files[i]=files[i].replace(\".h5\",\"\")"
   ]
  },
  {
   "cell_type": "code",
   "execution_count": 61,
   "metadata": {},
   "outputs": [],
   "source": [
    "def mae(yac90,ypr90):\n",
    "    maesum=0\n",
    "    for i in range(yac90.shape[1]):\n",
    "        maesum+=mean_absolute_error(yac90[i],ypr90[i])\n",
    "    maesum/=yac90.shape[1]\n",
    "    return maesum\n",
    "def rmse(yac90,ypr90):\n",
    "    rmsesum=0\n",
    "    for i in range(yac90.shape[1]):\n",
    "        rmsesum+=mean_squared_error(yac90[i],ypr90[i],squared=False)\n",
    "    rmsesum/=yac90.shape[1]\n",
    "    return rmsesum\n",
    "time=90"
   ]
  },
  {
   "cell_type": "code",
   "execution_count": 66,
   "metadata": {},
   "outputs": [
    {
     "data": {
      "text/plain": [
       "'POWERGRID'"
      ]
     },
     "execution_count": 66,
     "metadata": {},
     "output_type": "execute_result"
    }
   ],
   "source": [
    "files[36]"
   ]
  },
  {
   "cell_type": "code",
   "execution_count": 67,
   "metadata": {},
   "outputs": [],
   "source": [
    "df=pd.read_csv(ls_d[36])"
   ]
  },
  {
   "cell_type": "code",
   "execution_count": 74,
   "metadata": {},
   "outputs": [
    {
     "data": {
      "text/plain": [
       "close    -3.05\n",
       "Name: 0.1, dtype: float64"
      ]
     },
     "execution_count": 74,
     "metadata": {},
     "output_type": "execute_result"
    },
    {
     "data": {
      "text/plain": [
       "<Figure size 2500x1000 with 0 Axes>"
      ]
     },
     "metadata": {},
     "output_type": "display_data"
    }
   ],
   "source": [
    "plt.figure(figsize=(25,10))\n",
    "pd.DataFrame(df[\"close \"]-df[\"close \"].shift(1)).quantile(0.1)"
   ]
  },
  {
   "cell_type": "code",
   "execution_count": 44,
   "metadata": {},
   "outputs": [
    {
     "name": "stdout",
     "output_type": "stream",
     "text": [
      "75/75 [==============================] - 5s 45ms/step\n",
      "75/75 [==============================] - 5s 47ms/step\n",
      "75/75 [==============================] - 5s 45ms/step\n",
      "75/75 [==============================] - 5s 49ms/step\n",
      "75/75 [==============================] - 5s 48ms/step\n",
      "75/75 [==============================] - 5s 48ms/step\n",
      "75/75 [==============================] - 5s 51ms/step\n",
      "75/75 [==============================] - 5s 50ms/step\n",
      "75/75 [==============================] - 5s 51ms/step\n",
      "75/75 [==============================] - 5s 48ms/step\n",
      "75/75 [==============================] - 5s 51ms/step\n",
      "75/75 [==============================] - 5s 50ms/step\n",
      "75/75 [==============================] - 5s 49ms/step\n",
      "75/75 [==============================] - 6s 52ms/step\n",
      "75/75 [==============================] - 5s 47ms/step\n",
      "75/75 [==============================] - 5s 47ms/step\n",
      "75/75 [==============================] - 5s 51ms/step\n",
      "75/75 [==============================] - 5s 52ms/step\n",
      "75/75 [==============================] - 5s 51ms/step\n",
      "75/75 [==============================] - 6s 59ms/step\n",
      "42/42 [==============================] - 4s 52ms/step\n",
      "75/75 [==============================] - 6s 61ms/step\n",
      "75/75 [==============================] - 6s 60ms/step\n",
      "75/75 [==============================] - 5s 53ms/step\n",
      "75/75 [==============================] - 5s 53ms/step\n",
      "75/75 [==============================] - 5s 53ms/step\n",
      "75/75 [==============================] - 5s 53ms/step\n",
      "75/75 [==============================] - 6s 56ms/step\n",
      "75/75 [==============================] - 6s 56ms/step\n",
      "75/75 [==============================] - 5s 53ms/step\n",
      "75/75 [==============================] - 5s 53ms/step\n",
      "75/75 [==============================] - 6s 56ms/step\n",
      "75/75 [==============================] - 6s 62ms/step\n",
      "75/75 [==============================] - 5s 52ms/step\n",
      "75/75 [==============================] - 5s 51ms/step\n",
      "75/75 [==============================] - 6s 56ms/step\n",
      "75/75 [==============================] - 6s 52ms/step\n",
      "75/75 [==============================] - 6s 54ms/step\n",
      "42/42 [==============================] - 4s 53ms/step\n",
      "75/75 [==============================] - 6s 56ms/step\n",
      "75/75 [==============================] - 6s 55ms/step\n",
      "75/75 [==============================] - 5s 53ms/step\n",
      "75/75 [==============================] - 6s 56ms/step\n",
      "75/75 [==============================] - 6s 54ms/step\n",
      "75/75 [==============================] - 6s 55ms/step\n",
      "75/75 [==============================] - 6s 56ms/step\n",
      "75/75 [==============================] - 6s 57ms/step\n",
      "75/75 [==============================] - 5s 52ms/step\n",
      "75/75 [==============================] - 6s 55ms/step\n",
      "75/75 [==============================] - 6s 56ms/step\n"
     ]
    }
   ],
   "source": [
    "op=[]\n",
    "for h in range(len(ls_m)):    \n",
    "    df=pd.read_csv(ls_d[h])\n",
    "    m=load_model(ls_m[h])\n",
    "\n",
    "\n",
    "    data=[]\n",
    "    for i in range(90,df[\"OPEN \"].size):\n",
    "        data.append(np.array(df[\"logret\"][i-90:i]))\n",
    "    data=pd.DataFrame(data)\n",
    "\n",
    "\n",
    "    x_t=[]\n",
    "    y_t=[]\n",
    "    for i in range(data.shape[0]-1):\n",
    "        x_t.append(data.T[i])\n",
    "        y_t.append(data.T[i+1])\n",
    "    x_t=np.array(x_t).reshape(data[0].size-1,time,1)\n",
    "    y_t=np.array(y_t).reshape(data[0].size-1,time,1)\n",
    "\n",
    "\n",
    "    ypr=m.predict(x_t)\n",
    "\n",
    "    prte=[]\n",
    "    for i in range(0,ypr.shape[0],time):\n",
    "        prte.append(ypr[i])\n",
    "    prte=np.array(prte,dtype='object')\n",
    "    acte=[]\n",
    "    for i in range(0,y_t.shape[0],time):\n",
    "        acte.append(y_t[i])\n",
    "    acte=np.array(acte,dtype='object')\n",
    "\n",
    "    valac=[]\n",
    "    for i in range(0,acte.shape[0]):\n",
    "        t=[]\n",
    "        for j in range(acte[i].shape[0]):\n",
    "            if(j==0):\n",
    "                t.append(df[\"close \"][i*time]*(math.e**acte[i][j]))\n",
    "            else:\n",
    "                t.append(math.e**acte[i][j]*t[j-1])\n",
    "        valac.append(t)\n",
    "    valac=pd.DataFrame(valac)\n",
    "    valac\n",
    "    valpr=[]\n",
    "    for i in range(0,prte.shape[0]):\n",
    "        t=[]\n",
    "        for j in range(prte[i].shape[0]):\n",
    "            if(j==0):\n",
    "                t.append(df[\"close \"][i*time]*(math.e**prte[i][j]))\n",
    "            else:\n",
    "                t.append(math.e**prte[i][j]*t[j-1])\n",
    "        valpr.append(t)\n",
    "    valpr=pd.DataFrame(valpr)\n",
    "    valpr\n",
    "\n",
    "    op.append([files[h],mae(valac.T,valpr.T),rmse(valac.T,valpr.T)])"
   ]
  },
  {
   "cell_type": "code",
   "execution_count": 48,
   "metadata": {},
   "outputs": [],
   "source": [
    "pd.DataFrame(op,columns=[\"stock\",\"MAE\",\"RMSE\"]).to_csv(\"metrics.csv\")"
   ]
  },
  {
   "cell_type": "code",
   "execution_count": 50,
   "metadata": {},
   "outputs": [],
   "source": [
    "x=pd.read_csv(\"./metrics.csv\")"
   ]
  },
  {
   "cell_type": "code",
   "execution_count": 52,
   "metadata": {},
   "outputs": [
    {
     "data": {
      "text/plain": [
       "(50, 4)"
      ]
     },
     "execution_count": 52,
     "metadata": {},
     "output_type": "execute_result"
    }
   ],
   "source": [
    "x.shape"
   ]
  },
  {
   "cell_type": "code",
   "execution_count": 53,
   "metadata": {},
   "outputs": [],
   "source": [
    "y={}\n",
    "for i in range(x.shape[0]):\n",
    "    y[x[\"stock\"][i]]=(x[\"MAE\"][i],x[\"RMSE\"][i])"
   ]
  },
  {
   "cell_type": "code",
   "execution_count": 56,
   "metadata": {},
   "outputs": [],
   "source": [
    "with open('metrics.txt','w') as fp:\n",
    "    fp.write(json.dumps(y))"
   ]
  }
 ],
 "metadata": {
  "kernelspec": {
   "display_name": "Python 3",
   "language": "python",
   "name": "python3"
  },
  "language_info": {
   "codemirror_mode": {
    "name": "ipython",
    "version": 3
   },
   "file_extension": ".py",
   "mimetype": "text/x-python",
   "name": "python",
   "nbconvert_exporter": "python",
   "pygments_lexer": "ipython3",
   "version": "3.10.5"
  },
  "orig_nbformat": 4
 },
 "nbformat": 4,
 "nbformat_minor": 2
}
