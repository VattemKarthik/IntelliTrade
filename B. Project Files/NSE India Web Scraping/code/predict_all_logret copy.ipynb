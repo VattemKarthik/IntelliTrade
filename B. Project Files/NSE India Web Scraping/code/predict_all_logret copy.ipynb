{
 "cells": [
  {
   "cell_type": "code",
   "execution_count": 1,
   "metadata": {},
   "outputs": [],
   "source": [
    "import numpy as np\n",
    "import pandas as pd\n",
    "import seaborn as sns\n",
    "import os\n",
    "import matplotlib.axes\n",
    "import matplotlib.pyplot as plt\n",
    "from sklearn.decomposition import PCA\n",
    "from sklearn.preprocessing import MinMaxScaler\n",
    "from sklearn.model_selection import train_test_split\n",
    "from sklearn.preprocessing import OrdinalEncoder\n",
    "from sklearn.linear_model import LinearRegression\n",
    "from sklearn.neural_network import MLPRegressor\n",
    "from sklearn.neighbors import KNeighborsRegressor\n",
    "from sklearn.svm import SVR\n",
    "from sklearn.ensemble import RandomForestRegressor\n",
    "from keras.models import Sequential\n",
    "from keras.layers import LSTM,Dense,Dropout,Activation\n",
    "import math\n",
    "import tensorflow as tf\n",
    "from sklearn.metrics import mean_absolute_error,mean_squared_error,r2_score\n",
    "import datetime "
   ]
  },
  {
   "attachments": {},
   "cell_type": "markdown",
   "metadata": {},
   "source": [
    "OPEN-> \n",
    "CLOSE->\n",
    "HIGH->\n",
    "LOW->\n",
    "PREV.CLOSE->\n",
    "LTP->\n",
    "CLOSE->\n",
    "VWAP-> It's a trading benchmark that represents the average price a security has traded at throughout the day, based on both volume and price.\n",
    "52W H->\n",
    "52W L->\t\n",
    "VOLUME->\n",
    "valteteteteteteteUE->\n",
    "NO OF TRADES->\n"
   ]
  },
  {
   "cell_type": "code",
   "execution_count": 3,
   "metadata": {},
   "outputs": [],
   "source": [
    "read_data_dir=\"D:\\\\programs\\\\Applied data Science\\\\proj\\\\cleaned\""
   ]
  },
  {
   "cell_type": "code",
   "execution_count": 4,
   "metadata": {},
   "outputs": [],
   "source": [
    "ls=[]\n",
    "files=[]\n",
    "for root, dirs, files in os.walk(read_data_dir, topdown=False):\n",
    "   for name in files:\n",
    "      ls.append(os.path.join(root, name))\n",
    "for i in range(len(files)):\n",
    "   files[i]=files[i].replace(\".csv\",\"\")"
   ]
  },
  {
   "cell_type": "code",
   "execution_count": 5,
   "metadata": {},
   "outputs": [
    {
     "data": {
      "text/plain": [
       "'D:\\\\programs\\\\Applied data Science\\\\proj\\\\cleaned\\\\KOTAKBANK.csv'"
      ]
     },
     "execution_count": 5,
     "metadata": {},
     "output_type": "execute_result"
    }
   ],
   "source": [
    "ls[29]"
   ]
  },
  {
   "cell_type": "code",
   "execution_count": 6,
   "metadata": {},
   "outputs": [],
   "source": [
    "def ac_vs_pr(yac,ypr,title,option,file_index):\n",
    "    plt.figure(figsize=(55,20))\n",
    "    plt.title(title)\n",
    "    plt.plot(np.arange(yac.size),ypr,label=\"ypredicted\")\n",
    "    plt.plot(np.arange(yac.size)+0.1,yac,label=\"yactual\",alpha=0.6)\n",
    "    plt.legend()\n",
    "    plt.show()\n",
    "    # plt.savefig(\"D:\\\\programs\\\\Applied data Science\\\\proj\\\\reg_res\\\\plots\\\\\"+files[file_index]+\" \"+title+\"_\"+option+\".png\")"
   ]
  },
  {
   "cell_type": "code",
   "execution_count": 7,
   "metadata": {},
   "outputs": [
    {
     "data": {
      "text/plain": [
       "50"
      ]
     },
     "execution_count": 7,
     "metadata": {},
     "output_type": "execute_result"
    }
   ],
   "source": [
    "len(ls)"
   ]
  },
  {
   "cell_type": "code",
   "execution_count": 9,
   "metadata": {},
   "outputs": [
    {
     "name": "stdout",
     "output_type": "stream",
     "text": [
      "D:\\programs\\Applied data Science\\proj\\cleaned\\WIPRO.csv\n",
      "     close    OPEN        date   pct_chn    logret\n",
      "976  545.90  549.90 2017-06-08  0.009400 -0.006391\n",
      "977  536.95  544.05 2017-06-09  0.005412 -0.016531\n",
      "978  526.35  535.60 2017-06-12  0.007957  0.000038\n",
      "979  259.00  260.00 2017-06-13  0.006175 -0.709138\n",
      "980  256.10  261.30 2017-06-14  0.002513 -0.011260\n",
      "981  260.85  260.00 2017-06-15  0.002496  0.018378\n"
     ]
    },
    {
     "name": "stderr",
     "output_type": "stream",
     "text": [
      "C:\\Users\\Dell\\AppData\\Local\\Temp\\ipykernel_17220\\4045682305.py:11: SettingWithCopyWarning: \n",
      "A value is trying to be set on a copy of a slice from a DataFrame\n",
      "\n",
      "See the caveats in the documentation: https://pandas.pydata.org/pandas-docs/stable/user_guide/indexing.html#returning-a-view-versus-a-copy\n",
      "  dfr[\"pct_chn\"][0]=0\n",
      "C:\\Users\\Dell\\AppData\\Local\\Temp\\ipykernel_17220\\4045682305.py:12: SettingWithCopyWarning: \n",
      "A value is trying to be set on a copy of a slice from a DataFrame\n",
      "\n",
      "See the caveats in the documentation: https://pandas.pydata.org/pandas-docs/stable/user_guide/indexing.html#returning-a-view-versus-a-copy\n",
      "  dfr[\"logret\"][0]=0\n",
      "C:\\Users\\Dell\\AppData\\Local\\Temp\\ipykernel_17220\\4045682305.py:17: SettingWithCopyWarning: \n",
      "A value is trying to be set on a copy of a slice from a DataFrame\n",
      "\n",
      "See the caveats in the documentation: https://pandas.pydata.org/pandas-docs/stable/user_guide/indexing.html#returning-a-view-versus-a-copy\n",
      "  dfr[\"pct_chn\"][i]=dfr[\"pct_chn\"].mean()\n",
      "C:\\Users\\Dell\\AppData\\Local\\Temp\\ipykernel_17220\\4045682305.py:18: SettingWithCopyWarning: \n",
      "A value is trying to be set on a copy of a slice from a DataFrame\n",
      "\n",
      "See the caveats in the documentation: https://pandas.pydata.org/pandas-docs/stable/user_guide/indexing.html#returning-a-view-versus-a-copy\n",
      "  dfr[\"logret\"][i-1]=dfr[\"logret\"].mean()\n"
     ]
    },
    {
     "name": "stdout",
     "output_type": "stream",
     "text": [
      "Epoch 1/200\n",
      "60/60 [==============================] - 16s 157ms/step - loss: 5.5860e-04\n",
      "Epoch 2/200\n",
      "60/60 [==============================] - 9s 154ms/step - loss: 5.5811e-04\n",
      "Epoch 3/200\n",
      "60/60 [==============================] - 10s 162ms/step - loss: 5.5776e-04\n",
      "Epoch 4/200\n",
      "60/60 [==============================] - 10s 160ms/step - loss: 5.5691e-04\n",
      "Epoch 5/200\n",
      "60/60 [==============================] - 10s 159ms/step - loss: 5.5596e-04\n",
      "Epoch 6/200\n",
      "15/60 [======>.......................] - ETA: 8s - loss: 4.5636e-04"
     ]
    },
    {
     "ename": "KeyboardInterrupt",
     "evalue": "",
     "output_type": "error",
     "traceback": [
      "\u001b[1;31m---------------------------------------------------------------------------\u001b[0m",
      "\u001b[1;31mKeyboardInterrupt\u001b[0m                         Traceback (most recent call last)",
      "Cell \u001b[1;32mIn[9], line 68\u001b[0m\n\u001b[0;32m     64\u001b[0m \u001b[39m# rl.add(Activation('sigmoid'))\u001b[39;00m\n\u001b[0;32m     65\u001b[0m \n\u001b[0;32m     66\u001b[0m \u001b[39m# # fitting the nueral network\u001b[39;00m\n\u001b[0;32m     67\u001b[0m rl\u001b[39m.\u001b[39mcompile(optimizer\u001b[39m=\u001b[39m\u001b[39m\"\u001b[39m\u001b[39madam\u001b[39m\u001b[39m\"\u001b[39m,loss\u001b[39m=\u001b[39m\u001b[39m\"\u001b[39m\u001b[39mmean_squared_error\u001b[39m\u001b[39m\"\u001b[39m,run_eagerly\u001b[39m=\u001b[39m\u001b[39mFalse\u001b[39;00m)\n\u001b[1;32m---> 68\u001b[0m rl\u001b[39m.\u001b[39;49mfit(x_train,y_train,epochs\u001b[39m=\u001b[39;49m\u001b[39m200\u001b[39;49m,batch_size\u001b[39m=\u001b[39;49m\u001b[39m32\u001b[39;49m)\n\u001b[0;32m     69\u001b[0m \u001b[39m# rl=tf.keras.models.load_model(\"D:\\\\programs\\\\Applied data Science\\\\proj\\\\log_ret\"+files[0]+\".h5\")\u001b[39;00m\n\u001b[0;32m     70\u001b[0m op_te\u001b[39m=\u001b[39mrl\u001b[39m.\u001b[39mpredict(x_test)\n",
      "File \u001b[1;32mc:\\Users\\Dell\\AppData\\Local\\Programs\\Python\\Python310\\lib\\site-packages\\keras\\utils\\traceback_utils.py:65\u001b[0m, in \u001b[0;36mfilter_traceback.<locals>.error_handler\u001b[1;34m(*args, **kwargs)\u001b[0m\n\u001b[0;32m     63\u001b[0m filtered_tb \u001b[39m=\u001b[39m \u001b[39mNone\u001b[39;00m\n\u001b[0;32m     64\u001b[0m \u001b[39mtry\u001b[39;00m:\n\u001b[1;32m---> 65\u001b[0m     \u001b[39mreturn\u001b[39;00m fn(\u001b[39m*\u001b[39margs, \u001b[39m*\u001b[39m\u001b[39m*\u001b[39mkwargs)\n\u001b[0;32m     66\u001b[0m \u001b[39mexcept\u001b[39;00m \u001b[39mException\u001b[39;00m \u001b[39mas\u001b[39;00m e:\n\u001b[0;32m     67\u001b[0m     filtered_tb \u001b[39m=\u001b[39m _process_traceback_frames(e\u001b[39m.\u001b[39m__traceback__)\n",
      "File \u001b[1;32mc:\\Users\\Dell\\AppData\\Local\\Programs\\Python\\Python310\\lib\\site-packages\\keras\\engine\\training.py:1685\u001b[0m, in \u001b[0;36mModel.fit\u001b[1;34m(self, x, y, batch_size, epochs, verbose, callbacks, validation_split, validation_data, shuffle, class_weight, sample_weight, initial_epoch, steps_per_epoch, validation_steps, validation_batch_size, validation_freq, max_queue_size, workers, use_multiprocessing)\u001b[0m\n\u001b[0;32m   1677\u001b[0m \u001b[39mwith\u001b[39;00m tf\u001b[39m.\u001b[39mprofiler\u001b[39m.\u001b[39mexperimental\u001b[39m.\u001b[39mTrace(\n\u001b[0;32m   1678\u001b[0m     \u001b[39m\"\u001b[39m\u001b[39mtrain\u001b[39m\u001b[39m\"\u001b[39m,\n\u001b[0;32m   1679\u001b[0m     epoch_num\u001b[39m=\u001b[39mepoch,\n\u001b[1;32m   (...)\u001b[0m\n\u001b[0;32m   1682\u001b[0m     _r\u001b[39m=\u001b[39m\u001b[39m1\u001b[39m,\n\u001b[0;32m   1683\u001b[0m ):\n\u001b[0;32m   1684\u001b[0m     callbacks\u001b[39m.\u001b[39mon_train_batch_begin(step)\n\u001b[1;32m-> 1685\u001b[0m     tmp_logs \u001b[39m=\u001b[39m \u001b[39mself\u001b[39;49m\u001b[39m.\u001b[39;49mtrain_function(iterator)\n\u001b[0;32m   1686\u001b[0m     \u001b[39mif\u001b[39;00m data_handler\u001b[39m.\u001b[39mshould_sync:\n\u001b[0;32m   1687\u001b[0m         context\u001b[39m.\u001b[39masync_wait()\n",
      "File \u001b[1;32mc:\\Users\\Dell\\AppData\\Local\\Programs\\Python\\Python310\\lib\\site-packages\\tensorflow\\python\\util\\traceback_utils.py:150\u001b[0m, in \u001b[0;36mfilter_traceback.<locals>.error_handler\u001b[1;34m(*args, **kwargs)\u001b[0m\n\u001b[0;32m    148\u001b[0m filtered_tb \u001b[39m=\u001b[39m \u001b[39mNone\u001b[39;00m\n\u001b[0;32m    149\u001b[0m \u001b[39mtry\u001b[39;00m:\n\u001b[1;32m--> 150\u001b[0m   \u001b[39mreturn\u001b[39;00m fn(\u001b[39m*\u001b[39margs, \u001b[39m*\u001b[39m\u001b[39m*\u001b[39mkwargs)\n\u001b[0;32m    151\u001b[0m \u001b[39mexcept\u001b[39;00m \u001b[39mException\u001b[39;00m \u001b[39mas\u001b[39;00m e:\n\u001b[0;32m    152\u001b[0m   filtered_tb \u001b[39m=\u001b[39m _process_traceback_frames(e\u001b[39m.\u001b[39m__traceback__)\n",
      "File \u001b[1;32mc:\\Users\\Dell\\AppData\\Local\\Programs\\Python\\Python310\\lib\\site-packages\\tensorflow\\python\\eager\\polymorphic_function\\polymorphic_function.py:894\u001b[0m, in \u001b[0;36mFunction.__call__\u001b[1;34m(self, *args, **kwds)\u001b[0m\n\u001b[0;32m    891\u001b[0m compiler \u001b[39m=\u001b[39m \u001b[39m\"\u001b[39m\u001b[39mxla\u001b[39m\u001b[39m\"\u001b[39m \u001b[39mif\u001b[39;00m \u001b[39mself\u001b[39m\u001b[39m.\u001b[39m_jit_compile \u001b[39melse\u001b[39;00m \u001b[39m\"\u001b[39m\u001b[39mnonXla\u001b[39m\u001b[39m\"\u001b[39m\n\u001b[0;32m    893\u001b[0m \u001b[39mwith\u001b[39;00m OptionalXlaContext(\u001b[39mself\u001b[39m\u001b[39m.\u001b[39m_jit_compile):\n\u001b[1;32m--> 894\u001b[0m   result \u001b[39m=\u001b[39m \u001b[39mself\u001b[39m\u001b[39m.\u001b[39m_call(\u001b[39m*\u001b[39margs, \u001b[39m*\u001b[39m\u001b[39m*\u001b[39mkwds)\n\u001b[0;32m    896\u001b[0m new_tracing_count \u001b[39m=\u001b[39m \u001b[39mself\u001b[39m\u001b[39m.\u001b[39mexperimental_get_tracing_count()\n\u001b[0;32m    897\u001b[0m without_tracing \u001b[39m=\u001b[39m (tracing_count \u001b[39m==\u001b[39m new_tracing_count)\n",
      "File \u001b[1;32mc:\\Users\\Dell\\AppData\\Local\\Programs\\Python\\Python310\\lib\\site-packages\\tensorflow\\python\\eager\\polymorphic_function\\polymorphic_function.py:926\u001b[0m, in \u001b[0;36mFunction._call\u001b[1;34m(self, *args, **kwds)\u001b[0m\n\u001b[0;32m    923\u001b[0m   \u001b[39mself\u001b[39m\u001b[39m.\u001b[39m_lock\u001b[39m.\u001b[39mrelease()\n\u001b[0;32m    924\u001b[0m   \u001b[39m# In this case we have created variables on the first call, so we run the\u001b[39;00m\n\u001b[0;32m    925\u001b[0m   \u001b[39m# defunned version which is guaranteed to never create variables.\u001b[39;00m\n\u001b[1;32m--> 926\u001b[0m   \u001b[39mreturn\u001b[39;00m \u001b[39mself\u001b[39m\u001b[39m.\u001b[39m_no_variable_creation_fn(\u001b[39m*\u001b[39margs, \u001b[39m*\u001b[39m\u001b[39m*\u001b[39mkwds)  \u001b[39m# pylint: disable=not-callable\u001b[39;00m\n\u001b[0;32m    927\u001b[0m \u001b[39melif\u001b[39;00m \u001b[39mself\u001b[39m\u001b[39m.\u001b[39m_variable_creation_fn \u001b[39mis\u001b[39;00m \u001b[39mnot\u001b[39;00m \u001b[39mNone\u001b[39;00m:\n\u001b[0;32m    928\u001b[0m   \u001b[39m# Release the lock early so that multiple threads can perform the call\u001b[39;00m\n\u001b[0;32m    929\u001b[0m   \u001b[39m# in parallel.\u001b[39;00m\n\u001b[0;32m    930\u001b[0m   \u001b[39mself\u001b[39m\u001b[39m.\u001b[39m_lock\u001b[39m.\u001b[39mrelease()\n",
      "File \u001b[1;32mc:\\Users\\Dell\\AppData\\Local\\Programs\\Python\\Python310\\lib\\site-packages\\tensorflow\\python\\eager\\polymorphic_function\\tracing_compiler.py:143\u001b[0m, in \u001b[0;36mTracingCompiler.__call__\u001b[1;34m(self, *args, **kwargs)\u001b[0m\n\u001b[0;32m    140\u001b[0m \u001b[39mwith\u001b[39;00m \u001b[39mself\u001b[39m\u001b[39m.\u001b[39m_lock:\n\u001b[0;32m    141\u001b[0m   (concrete_function,\n\u001b[0;32m    142\u001b[0m    filtered_flat_args) \u001b[39m=\u001b[39m \u001b[39mself\u001b[39m\u001b[39m.\u001b[39m_maybe_define_function(args, kwargs)\n\u001b[1;32m--> 143\u001b[0m \u001b[39mreturn\u001b[39;00m concrete_function\u001b[39m.\u001b[39;49m_call_flat(\n\u001b[0;32m    144\u001b[0m     filtered_flat_args, captured_inputs\u001b[39m=\u001b[39;49mconcrete_function\u001b[39m.\u001b[39;49mcaptured_inputs)\n",
      "File \u001b[1;32mc:\\Users\\Dell\\AppData\\Local\\Programs\\Python\\Python310\\lib\\site-packages\\tensorflow\\python\\eager\\polymorphic_function\\monomorphic_function.py:1757\u001b[0m, in \u001b[0;36mConcreteFunction._call_flat\u001b[1;34m(self, args, captured_inputs, cancellation_manager)\u001b[0m\n\u001b[0;32m   1753\u001b[0m possible_gradient_type \u001b[39m=\u001b[39m gradients_util\u001b[39m.\u001b[39mPossibleTapeGradientTypes(args)\n\u001b[0;32m   1754\u001b[0m \u001b[39mif\u001b[39;00m (possible_gradient_type \u001b[39m==\u001b[39m gradients_util\u001b[39m.\u001b[39mPOSSIBLE_GRADIENT_TYPES_NONE\n\u001b[0;32m   1755\u001b[0m     \u001b[39mand\u001b[39;00m executing_eagerly):\n\u001b[0;32m   1756\u001b[0m   \u001b[39m# No tape is watching; skip to running the function.\u001b[39;00m\n\u001b[1;32m-> 1757\u001b[0m   \u001b[39mreturn\u001b[39;00m \u001b[39mself\u001b[39m\u001b[39m.\u001b[39m_build_call_outputs(\u001b[39mself\u001b[39;49m\u001b[39m.\u001b[39;49m_inference_function\u001b[39m.\u001b[39;49mcall(\n\u001b[0;32m   1758\u001b[0m       ctx, args, cancellation_manager\u001b[39m=\u001b[39;49mcancellation_manager))\n\u001b[0;32m   1759\u001b[0m forward_backward \u001b[39m=\u001b[39m \u001b[39mself\u001b[39m\u001b[39m.\u001b[39m_select_forward_and_backward_functions(\n\u001b[0;32m   1760\u001b[0m     args,\n\u001b[0;32m   1761\u001b[0m     possible_gradient_type,\n\u001b[0;32m   1762\u001b[0m     executing_eagerly)\n\u001b[0;32m   1763\u001b[0m forward_function, args_with_tangents \u001b[39m=\u001b[39m forward_backward\u001b[39m.\u001b[39mforward()\n",
      "File \u001b[1;32mc:\\Users\\Dell\\AppData\\Local\\Programs\\Python\\Python310\\lib\\site-packages\\tensorflow\\python\\eager\\polymorphic_function\\monomorphic_function.py:381\u001b[0m, in \u001b[0;36m_EagerDefinedFunction.call\u001b[1;34m(self, ctx, args, cancellation_manager)\u001b[0m\n\u001b[0;32m    379\u001b[0m \u001b[39mwith\u001b[39;00m _InterpolateFunctionError(\u001b[39mself\u001b[39m):\n\u001b[0;32m    380\u001b[0m   \u001b[39mif\u001b[39;00m cancellation_manager \u001b[39mis\u001b[39;00m \u001b[39mNone\u001b[39;00m:\n\u001b[1;32m--> 381\u001b[0m     outputs \u001b[39m=\u001b[39m execute\u001b[39m.\u001b[39;49mexecute(\n\u001b[0;32m    382\u001b[0m         \u001b[39mstr\u001b[39;49m(\u001b[39mself\u001b[39;49m\u001b[39m.\u001b[39;49msignature\u001b[39m.\u001b[39;49mname),\n\u001b[0;32m    383\u001b[0m         num_outputs\u001b[39m=\u001b[39;49m\u001b[39mself\u001b[39;49m\u001b[39m.\u001b[39;49m_num_outputs,\n\u001b[0;32m    384\u001b[0m         inputs\u001b[39m=\u001b[39;49margs,\n\u001b[0;32m    385\u001b[0m         attrs\u001b[39m=\u001b[39;49mattrs,\n\u001b[0;32m    386\u001b[0m         ctx\u001b[39m=\u001b[39;49mctx)\n\u001b[0;32m    387\u001b[0m   \u001b[39melse\u001b[39;00m:\n\u001b[0;32m    388\u001b[0m     outputs \u001b[39m=\u001b[39m execute\u001b[39m.\u001b[39mexecute_with_cancellation(\n\u001b[0;32m    389\u001b[0m         \u001b[39mstr\u001b[39m(\u001b[39mself\u001b[39m\u001b[39m.\u001b[39msignature\u001b[39m.\u001b[39mname),\n\u001b[0;32m    390\u001b[0m         num_outputs\u001b[39m=\u001b[39m\u001b[39mself\u001b[39m\u001b[39m.\u001b[39m_num_outputs,\n\u001b[1;32m   (...)\u001b[0m\n\u001b[0;32m    393\u001b[0m         ctx\u001b[39m=\u001b[39mctx,\n\u001b[0;32m    394\u001b[0m         cancellation_manager\u001b[39m=\u001b[39mcancellation_manager)\n",
      "File \u001b[1;32mc:\\Users\\Dell\\AppData\\Local\\Programs\\Python\\Python310\\lib\\site-packages\\tensorflow\\python\\eager\\execute.py:52\u001b[0m, in \u001b[0;36mquick_execute\u001b[1;34m(op_name, num_outputs, inputs, attrs, ctx, name)\u001b[0m\n\u001b[0;32m     50\u001b[0m \u001b[39mtry\u001b[39;00m:\n\u001b[0;32m     51\u001b[0m   ctx\u001b[39m.\u001b[39mensure_initialized()\n\u001b[1;32m---> 52\u001b[0m   tensors \u001b[39m=\u001b[39m pywrap_tfe\u001b[39m.\u001b[39;49mTFE_Py_Execute(ctx\u001b[39m.\u001b[39;49m_handle, device_name, op_name,\n\u001b[0;32m     53\u001b[0m                                       inputs, attrs, num_outputs)\n\u001b[0;32m     54\u001b[0m \u001b[39mexcept\u001b[39;00m core\u001b[39m.\u001b[39m_NotOkStatusException \u001b[39mas\u001b[39;00m e:\n\u001b[0;32m     55\u001b[0m   \u001b[39mif\u001b[39;00m name \u001b[39mis\u001b[39;00m \u001b[39mnot\u001b[39;00m \u001b[39mNone\u001b[39;00m:\n",
      "\u001b[1;31mKeyboardInterrupt\u001b[0m: "
     ]
    }
   ],
   "source": [
    "for v in range(49,50):\n",
    "    #generating data\n",
    "    df=pd.read_csv(ls[v])\n",
    "    print(ls[v])\n",
    "    dfr=pd.DataFrame(df[[\"close \",\"OPEN \"]])\n",
    "    dfr[\"date\"]=pd.to_datetime(df[\"Date \"])\n",
    "    dfr=dfr.iloc[::-1]\n",
    "    dfr.reset_index(inplace=True,drop=True)\n",
    "    dfr[\"pct_chn\"]=abs(dfr[\"OPEN \"].shift(1)-dfr[\"OPEN \"])/(dfr[\"close \"]+dfr[\"OPEN \"])\n",
    "    dfr[\"logret\"]=np.log(dfr[\"close \"]) - np.log(dfr[\"close \"].shift(1))\n",
    "    dfr[\"pct_chn\"][0]=0\n",
    "    dfr[\"logret\"][0]=0\n",
    "    dfr\n",
    "    #imputing data and cleaning up, saving\n",
    "    for i in range(dfr[\"close \"].size):\n",
    "        if(dfr[\"pct_chn\"][i]>0.3):\n",
    "            dfr[\"pct_chn\"][i]=dfr[\"pct_chn\"].mean()\n",
    "            dfr[\"logret\"][i-1]=dfr[\"logret\"].mean()\n",
    "            print(dfr[i-3:i+3])\n",
    "    dfr.to_csv(\"D:\\\\programs\\\\Applied data Science\\\\proj\\\\reg_res_logret\\\\data\\\\\"+files[v]+\".csv\")\n",
    "     # _=plt.figure(figsize=(25,10))\n",
    "    # _=plt.plot(np.arange(dfr[\"close \"].size),dfr[\"close \"])\n",
    "    # _=plt.xticks(ticks=np.arange(dfr[\"close \"].size,step=50),labels=dfr[\"date\"][::50],rotation=90)\n",
    "    # _=plt.title(ls[v])\n",
    "\n",
    "    time=90# time range to predict\n",
    "    data=[]\n",
    "    for i in range(time,dfr[\"OPEN \"].size):\n",
    "        data.append(np.array(dfr[\"logret\"][i-time:i]))\n",
    "    data=pd.DataFrame(data)\n",
    "    dfr[\"OPEN \"].size,data.shape\n",
    "    split=math.ceil(data.shape[0]*0.8)\n",
    "\n",
    "    #generating train and test\n",
    "    x_train=[]\n",
    "    y_train=[]\n",
    "    for i in range(split-1):\n",
    "        x_train.append(data.T[i])\n",
    "        y_train.append(data.T[i+1])\n",
    "    x_test=[]\n",
    "    y_test=[]\n",
    "    for i in range(split,data.shape[0]-1):\n",
    "        x_test.append(data.T[i])\n",
    "        y_test.append(data.T[i+1])\n",
    "    x_train=np.array(x_train).reshape(split-1,time,1)\n",
    "    x_test=np.array(x_test).reshape(data[0].size-split-1,time,1)\n",
    "    y_train=np.array(y_train).reshape(split-1,time,1)\n",
    "    y_test=np.array(y_test).reshape(data[0].size-split-1,time,1)\n",
    "    x_train.shape,x_test.shape,y_train.shape,y_test.shape\n",
    "\n",
    "    # building nueral network architecture\n",
    "    rl=Sequential()\n",
    "    rl.add(LSTM(units=50,return_sequences=True,input_shape=(x_train.shape[1],1)))\n",
    "    rl.add(Dropout(0.2,seed=170))\n",
    "    rl.add(LSTM(units=50,return_sequences=True))\n",
    "    rl.add(Dropout(0.2,seed=170))\n",
    "    rl.add(LSTM(units=50,return_sequences=True))\n",
    "    rl.add(Dropout(0.2,seed=170))\n",
    "    rl.add(LSTM(units=50,return_sequences=True))\n",
    "    rl.add(Dropout(0.2,seed=170))\n",
    "    rl.add(LSTM(units=50,return_sequences=False))\n",
    "    rl.add(Dropout(0.2,seed=170))\n",
    "    rl.add(Dense(units=time))\n",
    "    # rl.add(Activation('sigmoid'))\n",
    "\n",
    "    # # fitting the nueral network\n",
    "    rl.compile(optimizer=\"adam\",loss=\"mean_squared_error\",run_eagerly=False)\n",
    "    rl.fit(x_train,y_train,epochs=200,batch_size=32)\n",
    "    # rl=tf.keras.models.load_model(\"D:\\\\programs\\\\Applied data Science\\\\proj\\\\log_ret\"+files[0]+\".h5\")\n",
    "    op_te=rl.predict(x_test)\n",
    "    op_tr=rl.predict(x_train)\n",
    "    #modifying and selecting output\n",
    "    prte=[]\n",
    "    for i in range(0,op_te.shape[0],time):\n",
    "        prte.append(op_te[i])\n",
    "    prte=np.array(prte,dtype='object')\n",
    "    prtr=[]\n",
    "    for i in range(0,op_tr.shape[0],time):\n",
    "        prtr.append(op_tr[i])\n",
    "    prtr=np.array(prtr,dtype='object')\n",
    "    valte=[]\n",
    "    for i in range(0,prte.shape[0]):\n",
    "        t=[]\n",
    "        for j in range(prte[i].shape[0]):\n",
    "            if(j==0):\n",
    "                t.append(dfr[\"close \"][split+i*time]*(math.e**prte[i][j]))\n",
    "            else:\n",
    "                t.append(math.e**prte[i][j]*t[j-1])\n",
    "        valte.append(t)\n",
    "    valte=pd.DataFrame(valte)\n",
    "    valte\n",
    "    valtr=[]\n",
    "    for i in range(0,prtr.shape[0]):\n",
    "        t=[]\n",
    "        for j in range(prtr[i].shape[0]):\n",
    "            if(j==0):\n",
    "                t.append(dfr[\"close \"][i*time]*(math.e**prtr[i][j]))\n",
    "            else:\n",
    "                t.append(math.e**prtr[i][j]*t[j-1])\n",
    "        valtr.append(t)\n",
    "    valtr=pd.DataFrame(valtr)\n",
    "    valtr\n",
    "    #generating plots, vaing plots and model\n",
    "    plt.figure(figsize=(35,10))\n",
    "    plt.plot(np.arange(dfr['close '][split:].size),dfr[\"close \"][split:],label=\"actual data\")\n",
    "    for i in range(valte.shape[0]):\n",
    "        plt.plot(np.arange(start=i*time,stop=(i+1)*time),valte.T[i],label=\"set \"+str(i+1)+\" 90 day predictions\",alpha=0.8)\n",
    "    plt.legend()\n",
    "    plt.savefig(\"D:\\\\programs\\\\Applied data Science\\\\proj\\\\reg_res_logret\\\\plots\\\\Test\"+files[v]+\".png\")\n",
    "    plt.show()\n",
    "    plt.figure(figsize=(35,10))\n",
    "    plt.plot(np.arange(dfr['close '][:split].size),dfr[\"close \"][:split],label=\"actual data\")\n",
    "    # cmap = matplotlib.colormaps['viridis']\n",
    "    for i in range(valtr.shape[0]):\n",
    "        plt.plot(np.arange(start=i*time,stop=(i+1)*time),valtr.T[i],label=\"set \"+str(i+1)+\" 90 day predictions\",alpha=0.8)\n",
    "    plt.legend()\n",
    "    plt.savefig(\"D:\\\\programs\\\\Applied data Science\\\\proj\\\\reg_res_logret\\\\plots\\\\Train\"+files[v]+\".png\")\n",
    "    plt.show()\n",
    "    rl.save(\"D:\\\\programs\\\\Applied data Science\\\\proj\\\\reg_res_logret\\\\model\\\\\"+files[v]+\".h5\")"
   ]
  },
  {
   "attachments": {},
   "cell_type": "markdown",
   "metadata": {},
   "source": [
    "#### Model uses keras API from tensorflow\n",
    "#### Model predicts based on close log ret "
   ]
  },
  {
   "attachments": {},
   "cell_type": "markdown",
   "metadata": {},
   "source": [
    "# log(ti+1/ti) where i>=0 are known (assumed to be y(i+1))\n",
    "# t0=x is known\n",
    "# find t(i+1) for all relevant i's\n",
    "\n",
    "\n",
    "log(t1/t0)=y1\n",
    "t1/t0=e^y1\n",
    "t1=t0*e^y1\n",
    "\n",
    "log(t2/t1)=y2\n",
    "log(t2/t1)+log(t1/t0)=y2+log(t1/t0)\n",
    "log(t2/t0)=y2+y1\n",
    "t2/t0=e^(y1+y2)\n",
    "t2=t0*e^(y1+y2)\n",
    "\n",
    "\n",
    "log(t3/t2)=y3\n",
    "log(t3/t2)+log(t2/t1)+log(t1/t0)=y3+log(t1/t0)+log(t2/t1)\n",
    "log(t3/t0)=y3+y2+y1\n",
    "t3/t0=e^(y1+y2+y3)\n",
    "t3=t0*e^(y1+y2+y3)"
   ]
  }
 ],
 "metadata": {
  "kernelspec": {
   "display_name": "Python 3",
   "language": "python",
   "name": "python3"
  },
  "language_info": {
   "codemirror_mode": {
    "name": "ipython",
    "version": 3
   },
   "file_extension": ".py",
   "mimetype": "text/x-python",
   "name": "python",
   "nbconvert_exporter": "python",
   "pygments_lexer": "ipython3",
   "version": "3.10.5"
  },
  "orig_nbformat": 4
 },
 "nbformat": 4,
 "nbformat_minor": 2
}
